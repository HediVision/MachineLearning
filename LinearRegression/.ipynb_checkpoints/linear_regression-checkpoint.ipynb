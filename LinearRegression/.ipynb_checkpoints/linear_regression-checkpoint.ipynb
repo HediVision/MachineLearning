{
 "cells": [
  {
   "cell_type": "markdown",
   "metadata": {},
   "source": [
    "# Linear regression \n",
    "## 1. Introduction\n",
    "\n",
    "Linear regression is used when the response of variable is continuous. For instance, weight, height etc. The outcome (dependent variable) in linear regression is continuous. Hence it can have any number of possible values. The Linear regression normaly used for predictive analysis.\n",
    "\n",
    "In this experiment, I want to predict the brain mass of mammal with knowing its body mass. I  downloaded the data from [here](http://people.sc.fsu.edu/~jburkardt/datasets/regression/regression.html).\n",
    "\n",
    "---"
   ]
  },
  {
   "cell_type": "code",
   "execution_count": 1,
   "metadata": {},
   "outputs": [],
   "source": [
    "import tensorflow as tf\n",
    "import numpy as np\n",
    "from sklearn.model_selection import train_test_split\n",
    "import matplotlib.pyplot as plt\n",
    "from scipy import stats"
   ]
  },
  {
   "cell_type": "code",
   "execution_count": 2,
   "metadata": {},
   "outputs": [],
   "source": [
    "data=np.loadtxt('../data/brainbody.txt', skiprows=1);\n",
    "train,test=train_test_split(data, test_size=.1)"
   ]
  },
  {
   "cell_type": "markdown",
   "metadata": {},
   "source": [
    "---\n",
    "\n",
    "First, we should determine if there is any relationship between the variables.  A scatterplot or simple statistical analysis is useful to find the relationship between variables. If there is no correlation between variables linear regression will not give us a useful prediction.  \n",
    "\n",
    "The correlation coefficient is a useful measure to find the degree of association between two variables. Correlation coefficient gives a value between 1 and -1 indicating the strength of relationship of the observed data.\n",
    "\n",
    "---"
   ]
  },
  {
   "cell_type": "code",
   "execution_count": 3,
   "metadata": {},
   "outputs": [
    {
     "name": "stdout",
     "output_type": "stream",
     "text": [
      "Correlation coefficient:  0.987727\n",
      "Varince:  Brain-> 808485.127878   Body-> 865418.910402\n",
      "Number of sample 55\n"
     ]
    }
   ],
   "source": [
    "cor=np.corrcoef(train[:,1],train[:,2])\n",
    "print('Correlation coefficient:  %f'% cor[0,1])\n",
    "info=stats.describe(data[:,1:3]);\n",
    "#print(info)\n",
    "print('Varince:  Brain-> %f   Body-> %f' % (info.variance[0],info.variance[1]))\n",
    "X_train=np.log10(train[:,1])#brain weight\n",
    "Y_train=np.log10(train[:,2])#body  weight\n",
    "\n",
    "n=(X_train.shape[0]);\n",
    "print(\"Number of sample %i\"%n)\n",
    "#print(X_train.dtype)"
   ]
  },
  {
   "cell_type": "markdown",
   "metadata": {},
   "source": [
    "----\n",
    "\n",
    "The equation of linear regression is $Y = a + bX$, where $X$ is the **explanatory variable** and $Y$ is the **dependent variable**. The slope of the line is $b$, and $a$ is the intercept. \n",
    "\n",
    "----"
   ]
  },
  {
   "cell_type": "code",
   "execution_count": 4,
   "metadata": {},
   "outputs": [],
   "source": [
    "learning_rate = .01\n",
    "training_epochs = 1000\n",
    "display_step = 50\n",
    "\n",
    "X=tf.placeholder(\"float\")\n",
    "Y=tf.placeholder(\"float\")\n",
    "\n",
    "W=tf.Variable(np.random.randn(),name=\"weight\")\n",
    "b=tf.Variable(np.random.randn(),name=\"bias\")\n",
    "\n",
    "pred = tf.add(tf.multiply(X, W), b)\n",
    "# Mean squared error"
   ]
  },
  {
   "cell_type": "markdown",
   "metadata": {},
   "source": [
    "---\n",
    "\n",
    "**Least-squares** is the most common method for fitting a regression. Least-squares estimate the best-fitting line to observed data by minimizing the sum of the squares of the vertical deviations from each data point to the line.\n",
    "\n",
    "----"
   ]
  },
  {
   "cell_type": "code",
   "execution_count": 5,
   "metadata": {},
   "outputs": [],
   "source": [
    "cost = tf.reduce_sum(tf.pow(pred-Y, 2))/(2*n)\n",
    "# Gradient descent\n",
    "optimizer = tf.train.GradientDescentOptimizer(learning_rate).minimize(cost)\n",
    "init = tf.global_variables_initializer()"
   ]
  },
  {
   "cell_type": "code",
   "execution_count": 6,
   "metadata": {},
   "outputs": [
    {
     "name": "stdout",
     "output_type": "stream",
     "text": [
      "Epoch: 0050 cost= 0.624358177 W= 1.237964 b= -0.17201422\n",
      "Epoch: 0100 cost= 0.300292879 W= 1.0801127 b= 0.19538441\n",
      "Epoch: 0150 cost= 0.155132160 W= 0.9723478 b= 0.44034842\n",
      "Epoch: 0200 cost= 0.090094775 W= 0.89942575 b= 0.60395616\n",
      "Epoch: 0250 cost= 0.060951833 W= 0.85031855 b= 0.7133335\n",
      "Epoch: 0300 cost= 0.047891650 W= 0.8173366 b= 0.78649575\n",
      "Epoch: 0350 cost= 0.042038146 W= 0.7952197 b= 0.8354494\n",
      "Epoch: 0400 cost= 0.039414298 W= 0.7803988 b= 0.86820704\n",
      "Epoch: 0450 cost= 0.038237739 W= 0.77047324 b= 0.89013183\n",
      "Epoch: 0500 cost= 0.037709948 W= 0.7638257 b= 0.9048066\n",
      "Epoch: 0550 cost= 0.037473075 W= 0.7593765 b= 0.91462815\n",
      "Epoch: 0600 cost= 0.037366662 W= 0.7563983 b= 0.92120266\n",
      "Epoch: 0650 cost= 0.037318807 W= 0.7544051 b= 0.92560184\n",
      "Epoch: 0700 cost= 0.037297245 W= 0.7530718 b= 0.92854476\n",
      "Epoch: 0750 cost= 0.037287485 W= 0.75217694 b= 0.9305154\n",
      "Epoch: 0800 cost= 0.037283052 W= 0.75157833 b= 0.9318364\n",
      "Epoch: 0850 cost= 0.037281036 W= 0.75117785 b= 0.93271905\n",
      "Epoch: 0900 cost= 0.037280101 W= 0.7509145 b= 0.93331045\n",
      "Epoch: 0950 cost= 0.037279665 W= 0.75073445 b= 0.9337059\n",
      "Epoch: 1000 cost= 0.037279457 W= 0.75061774 b= 0.9339719\n",
      "Optimization Finished!\n",
      "Training cost= 0.037279457 W= 0.75061774 b= 0.9339719 \n",
      "\n"
     ]
    }
   ],
   "source": [
    "#with tf.Session() as sess:\n",
    "sess = tf.InteractiveSession()\n",
    "sess.run(init)\n",
    "for epoch in range(training_epochs):\n",
    "        for (x, y) in zip(X_train, Y_train):\n",
    "            sess.run(optimizer, feed_dict={X: x, Y: y})\n",
    "\n",
    "        #Display logs per epoch step\n",
    "        if (epoch+1) % display_step == 0:\n",
    "            c = sess.run(cost, feed_dict={X: X_train, Y:Y_train})\n",
    "            print \"Epoch:\", '%04d' % (epoch+1), \"cost=\", \"{:.9f}\".format(c), \\\n",
    "                \"W=\", sess.run(W), \"b=\", sess.run(b)\n",
    "\n",
    "print \"Optimization Finished!\"\n",
    "training_cost = sess.run(cost, feed_dict={X: X_train, Y: Y_train})\n",
    "print \"Training cost=\", training_cost, \"W=\", sess.run(W), \"b=\", sess.run(b), '\\n'\n",
    "\n"
   ]
  },
  {
   "cell_type": "code",
   "execution_count": 7,
   "metadata": {},
   "outputs": [
    {
     "data": {
      "image/png": "[encoded data removed]",
      "text/plain": [
       "<Figure size 432x288 with 1 Axes>"
      ]
     },
     "metadata": {},
     "output_type": "display_data"
    },
    {
     "name": "stdout",
     "output_type": "stream",
     "text": [
      "Predicted\tOriginal\n",
      "=========\t==========\n",
      "951.143469\t680.000000\n",
      "470.305778\t406.000000\n",
      "6362.761728\t5712.000000\n",
      "1.229059\t1.200000\n",
      "21.996775\t3.900000\n",
      "190.271125\t1320.000000\n",
      "272.400165\t157.000000\n"
     ]
    }
   ],
   "source": [
    "#Graphic display\n",
    "X_test=np.log10(test[:,1])\n",
    "Y_test=np.log10(test[:,2])\n",
    "plt.plot(X_test, Y_test, 'ro', label='Original data')\n",
    "plt.plot(X_train, sess.run(W) * X_train+ sess.run(b), label='Fitted line')\n",
    "plt.legend()\n",
    "plt.show()\n",
    "print(\"Predicted\\tOriginal\")\n",
    "print(\"=========\\t==========\")\n",
    "for (x,y) in zip(X_test, Y_test):\n",
    "    print(\"%f\\t%f\"% (10**(sess.run(W) * x+ sess.run(b)), 10**y))\n",
    "\n"
   ]
  },
  {
   "cell_type": "code",
   "execution_count": null,
   "metadata": {},
   "outputs": [],
   "source": []
  }
 ],
 "metadata": {
  "kernelspec": {
   "display_name": "Python 3",
   "language": "python",
   "name": "python3"
  },
  "language_info": {
   "codemirror_mode": {
    "name": "ipython",
    "version": 2
   },
   "file_extension": ".py",
   "mimetype": "text/x-python",
   "name": "python",
   "nbconvert_exporter": "python",
   "pygments_lexer": "ipython2",
   "version": "2.7.12"
  }
 },
 "nbformat": 4,
 "nbformat_minor": 2
}
