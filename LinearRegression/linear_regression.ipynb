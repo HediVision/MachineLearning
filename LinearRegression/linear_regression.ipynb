{
 "cells": [
  {
   "cell_type": "markdown",
   "metadata": {},
   "source": [
    "# Linear regression \n",
    "## 1. Introduction\n",
    "\n",
    "Linear regression is used when the response of variable is continuous. For instance, weight, height etc. The outcome (dependent variable) in linear regression is continuous. Hence it can have any number of possible values. The Linear regression normaly used for predictive analysis.\n",
    "\n",
    "In this experiment, I want to predict the brain mass of mammal with knowing its body mass. I  downloaded the data from [here](http://people.sc.fsu.edu/~jburkardt/datasets/regression/regression.html).\n",
    "\n",
    "---"
   ]
  },
  {
   "cell_type": "code",
   "execution_count": 1,
   "metadata": {},
   "outputs": [],
   "source": [
    "import tensorflow as tf\n",
    "import numpy as np\n",
    "from sklearn.model_selection import train_test_split\n",
    "import matplotlib.pyplot as plt\n",
    "from scipy import stats"
   ]
  },
  {
   "cell_type": "code",
   "execution_count": 2,
   "metadata": {},
   "outputs": [],
   "source": [
    "data=np.loadtxt('../data/brainbody.txt', skiprows=1);\n",
    "train,test=train_test_split(data, test_size=.1)"
   ]
  },
  {
   "cell_type": "markdown",
   "metadata": {},
   "source": [
    "---\n",
    "\n",
    "First, we should determine if there is any relationship between the variables.  A scatterplot or simple statistical analysis is useful to find the relationship between variables. If there is no correlation between variables linear regression will not give us a useful prediction.  \n",
    "\n",
    "The correlation coefficient is a useful measure to find the degree of association between two variables. Correlation coefficient gives a value between 1 and -1 indicating the strength of relationship of the observed data.\n",
    "\n",
    "---"
   ]
  },
  {
   "cell_type": "code",
   "execution_count": 3,
   "metadata": {},
   "outputs": [
    {
     "name": "stdout",
     "output_type": "stream",
     "text": [
      "Correlation coefficient:  0.947864\n",
      "Varince:  Brain-> 808485.127878   Body-> 865418.910402\n",
      "Number of sample 55\n"
     ]
    }
   ],
   "source": [
    "cor=np.corrcoef(train[:,1],train[:,2])\n",
    "print('Correlation coefficient:  %f'% cor[0,1])\n",
    "info=stats.describe(data[:,1:3]);\n",
    "#print(info)\n",
    "print('Varince:  Brain-> %f   Body-> %f' % (info.variance[0],info.variance[1]))\n",
    "X_train=np.log10(train[:,1])#brain weight\n",
    "Y_train=np.log10(train[:,2])#body  weight\n",
    "\n",
    "n=(X_train.shape[0]);\n",
    "print(\"Number of sample %i\"%n)\n",
    "#print(X_train.dtype)"
   ]
  },
  {
   "cell_type": "markdown",
   "metadata": {},
   "source": [
    "----\n",
    "\n",
    "The equation of linear regression is $Y = a + bX$, where $X$ is the **explanatory variable** and $Y$ is the **dependent variable**. The slope of the line is $b$, and $a$ is the intercept. \n",
    "\n",
    "----"
   ]
  },
  {
   "cell_type": "code",
   "execution_count": 4,
   "metadata": {},
   "outputs": [],
   "source": [
    "learning_rate = .01\n",
    "training_epochs = 1000\n",
    "display_step = 50\n",
    "\n",
    "X=tf.placeholder(\"float\")\n",
    "Y=tf.placeholder(\"float\")\n",
    "\n",
    "W=tf.Variable(np.random.randn(),name=\"weight\")\n",
    "b=tf.Variable(np.random.randn(),name=\"bias\")\n",
    "\n",
    "pred = tf.add(tf.multiply(X, W), b)\n",
    "# Mean squared error"
   ]
  },
  {
   "cell_type": "markdown",
   "metadata": {},
   "source": [
    "---\n",
    "\n",
    "**Least-squares** is the most common method for fitting a regression. Least-squares estimate the best-fitting line to observed data by minimizing the sum of the squares of the vertical deviations from each data point to the line.\n",
    "\n",
    "----"
   ]
  },
  {
   "cell_type": "code",
   "execution_count": 5,
   "metadata": {},
   "outputs": [],
   "source": [
    "cost = tf.reduce_sum(tf.pow(pred-Y, 2))/(2*n)\n",
    "# Gradient descent\n",
    "optimizer = tf.train.GradientDescentOptimizer(learning_rate).minimize(cost)\n",
    "init = tf.global_variables_initializer()"
   ]
  },
  {
   "cell_type": "code",
   "execution_count": 6,
   "metadata": {},
   "outputs": [
    {
     "name": "stdout",
     "output_type": "stream",
     "text": [
      "Epoch: 0050 cost= 0.709089160 W= -0.13596296 b= 1.5570316\n",
      "Epoch: 0100 cost= 0.223045945 W= 0.32612824 b= 1.4520389\n",
      "Epoch: 0150 cost= 0.116852768 W= 0.50709015 b= 1.3161596\n",
      "Epoch: 0200 cost= 0.076129705 W= 0.59214556 b= 1.2029884\n",
      "Epoch: 0250 cost= 0.057190761 W= 0.6395015 b= 1.118604\n",
      "Epoch: 0300 cost= 0.048024166 W= 0.6690708 b= 1.0580943\n",
      "Epoch: 0350 cost= 0.043556139 W= 0.68870384 b= 1.0153658\n",
      "Epoch: 0400 cost= 0.041375611 W= 0.7021204 b= 0.9853783\n",
      "Epoch: 0450 cost= 0.040311348 W= 0.71140707 b= 0.96438885\n",
      "Epoch: 0500 cost= 0.039791875 W= 0.7178695 b= 0.9497116\n",
      "Epoch: 0550 cost= 0.039538346 W= 0.7223795 b= 0.93945396\n",
      "Epoch: 0600 cost= 0.039414611 W= 0.7255268 b= 0.93228436\n",
      "Epoch: 0650 cost= 0.039354268 W= 0.7277251 b= 0.9272772\n",
      "Epoch: 0700 cost= 0.039324813 W= 0.7292619 b= 0.9237765\n",
      "Epoch: 0750 cost= 0.039310448 W= 0.7303349 b= 0.9213291\n",
      "Epoch: 0800 cost= 0.039303459 W= 0.7310845 b= 0.9196227\n",
      "Epoch: 0850 cost= 0.039300047 W= 0.7316097 b= 0.91842926\n",
      "Epoch: 0900 cost= 0.039298397 W= 0.7319764 b= 0.9175962\n",
      "Epoch: 0950 cost= 0.039297588 W= 0.7322296 b= 0.91701275\n",
      "Epoch: 1000 cost= 0.039297193 W= 0.73241085 b= 0.916604\n",
      "Optimization Finished!\n",
      "Training cost= 0.039297193 W= 0.73241085 b= 0.916604 \n",
      "\n"
     ]
    }
   ],
   "source": [
    "#with tf.Session() as sess:\n",
    "sess = tf.InteractiveSession()\n",
    "sess.run(init)\n",
    "for epoch in range(training_epochs):\n",
    "        for (x, y) in zip(X_train, Y_train):\n",
    "            sess.run(optimizer, feed_dict={X: x, Y: y})\n",
    "\n",
    "        #Display logs per epoch step\n",
    "        if (epoch+1) % display_step == 0:\n",
    "            c = sess.run(cost, feed_dict={X: X_train, Y:Y_train})\n",
    "            print \"Epoch:\", '%04d' % (epoch+1), \"cost=\", \"{:.9f}\".format(c), \\\n",
    "                \"W=\", sess.run(W), \"b=\", sess.run(b)\n",
    "\n",
    "print \"Optimization Finished!\"\n",
    "training_cost = sess.run(cost, feed_dict={X: X_train, Y: Y_train})\n",
    "print \"Training cost=\", training_cost, \"W=\", sess.run(W), \"b=\", sess.run(b), '\\n'\n",
    "\n"
   ]
  },
  {
   "cell_type": "code",
   "execution_count": 7,
   "metadata": {},
   "outputs": [
    {
     "data": {
      "image/png": "[encoded data removed]",
      "text/plain": [
       "<Figure size 432x288 with 1 Axes>"
      ]
     },
     "metadata": {},
     "output_type": "display_data"
    },
    {
     "name": "stdout",
     "output_type": "stream",
     "text": [
      "Predicted\tOriginal\n",
      "=========\t==========\n",
      "23.567867\t58.000000\n",
      "149.417222\t440.000000\n",
      "8.252851\t6.600000\n",
      "10.281627\t8.100000\n",
      "169.578621\t1320.000000\n",
      "0.520854\t0.400000\n",
      "0.282997\t0.250000\n"
     ]
    }
   ],
   "source": [
    "#Graphic display\n",
    "X_test=np.log10(test[:,1])\n",
    "Y_test=np.log10(test[:,2])\n",
    "plt.plot(X_test, Y_test, 'ro', label='Original data')\n",
    "plt.plot(X_train, sess.run(W) * X_train+ sess.run(b), label='Fitted line')\n",
    "plt.legend()\n",
    "plt.show()\n",
    "print(\"Predicted\\tOriginal\")\n",
    "print(\"=========\\t==========\")\n",
    "for (x,y) in zip(X_test, Y_test):\n",
    "    print(\"%f\\t%f\"% (10**(sess.run(W) * x+ sess.run(b)), 10**y))\n",
    "\n"
   ]
  },
  {
   "cell_type": "code",
   "execution_count": null,
   "metadata": {},
   "outputs": [],
   "source": []
  }
 ],
 "metadata": {
  "kernelspec": {
   "display_name": "Python 3",
   "language": "python",
   "name": "python3"
  },
  "language_info": {
   "codemirror_mode": {
    "name": "ipython",
    "version": 2
   },
   "file_extension": ".py",
   "mimetype": "text/x-python",
   "name": "python",
   "nbconvert_exporter": "python",
   "pygments_lexer": "ipython2",
   "version": "2.7.12"
  }
 },
 "nbformat": 4,
 "nbformat_minor": 2
}
